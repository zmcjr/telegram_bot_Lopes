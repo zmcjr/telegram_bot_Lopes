{
 "cells": [
  {
   "cell_type": "markdown",
   "metadata": {},
   "source": [
    "TelegramBot"
   ]
  },
  {
   "cell_type": "code",
   "execution_count": null,
   "metadata": {},
   "outputs": [],
   "source": [
    "#!/usr/bin/env python\n",
    "# -*- coding: utf-8 -*-\n",
    "\n",
    "import telebot\n",
    "import pandas as pd\n",
    "import os\n",
    "import re  # Importa o módulo re para expressões regulares\n",
    "\n",
    "from telebot import apihelper\n",
    "\n",
    "apihelper.ENABLE_MIDDLEWARE = True"
   ]
  },
  {
   "cell_type": "markdown",
   "metadata": {},
   "source": [
    "Substitua 'YOUR_TOKEN' pelo token do seu bot"
   ]
  },
  {
   "cell_type": "code",
   "execution_count": null,
   "metadata": {},
   "outputs": [],
   "source": [
    "bot = telebot.TeleBot(\"...........\")"
   ]
  },
  {
   "cell_type": "markdown",
   "metadata": {},
   "source": [
    "Cria uma lista para armazenar os links"
   ]
  },
  {
   "cell_type": "code",
   "execution_count": null,
   "metadata": {},
   "outputs": [],
   "source": [
    "links = []"
   ]
  },
  {
   "cell_type": "markdown",
   "metadata": {},
   "source": [
    "Função para salvar links em uma planilha"
   ]
  },
  {
   "cell_type": "code",
   "execution_count": null,
   "metadata": {},
   "outputs": [],
   "source": [
    "def save_links_to_excel():\n",
    "    df = pd.DataFrame(links, columns=[\"Links\"])\n",
    "    df.to_excel(\"links.xlsx\", index=False)"
   ]
  },
  {
   "cell_type": "markdown",
   "metadata": {},
   "source": [
    "Função para salvar vídeos em uma pasta"
   ]
  },
  {
   "cell_type": "code",
   "execution_count": null,
   "metadata": {},
   "outputs": [],
   "source": [
    "def save_video(file_id):\n",
    "    file_info = bot.get_file(file_id)\n",
    "    downloaded_file = bot.download_file(file_info.file_path)\n",
    "    # Cria a pasta se não existir\n",
    "    if not os.path.exists('videos'):\n",
    "        os.makedirs('videos')\n",
    "    # Salva o vídeo na pasta\n",
    "    with open(f'videos/{file_info.file_path.split(\"/\")[-1]}', 'wb') as new_file:\n",
    "        new_file.write(downloaded_file)"
   ]
  },
  {
   "cell_type": "markdown",
   "metadata": {},
   "source": [
    "Manipulador de mensagens"
   ]
  },
  {
   "cell_type": "code",
   "execution_count": null,
   "metadata": {},
   "outputs": [],
   "source": [
    "@bot.middleware_handler(update_types=['message'])\n",
    "def modify_message(bot_instance, message):\n",
    "    # modifying the message before it reaches any other handler \n",
    "    #message.another_text = message.text + ':changed'\n",
    "    print(f\"Content type = {message.content_type}\")\n",
    "\n",
    "@bot.message_handler(content_types=['text', 'video'])\n",
    "def handle_message(message):\n",
    "    if message.content_type == 'text':\n",
    "        # Verifica se o texto é um link que começa com 'https://'\n",
    "        if re.match(r'^https://', message.text):\n",
    "            links.append(message.text)\n",
    "            save_links_to_excel()\n",
    "            bot.reply_to(message, \"Link salvo com sucesso!\")\n",
    "        else:\n",
    "            bot.reply_to(\n",
    "                message, \"Por favor, envie um link válido que comece com 'https://'.\")\n",
    "    elif message.content_type == 'video':\n",
    "        save_video(message.video.file_id)\n",
    "        bot.reply_to(message, \"Vídeo salvo com sucesso!\")"
   ]
  },
  {
   "cell_type": "markdown",
   "metadata": {},
   "source": [
    "Inicia o bot"
   ]
  },
  {
   "cell_type": "code",
   "execution_count": null,
   "metadata": {},
   "outputs": [],
   "source": [
    "bot.infinity_polling()"
   ]
  }
 ],
 "metadata": {
  "kernelspec": {
   "display_name": ".python3_venv",
   "language": "python",
   "name": "python3"
  },
  "language_info": {
   "codemirror_mode": {
    "name": "ipython",
    "version": 3
   },
   "file_extension": ".py",
   "mimetype": "text/x-python",
   "name": "python",
   "nbconvert_exporter": "python",
   "pygments_lexer": "ipython3",
   "version": "3.9.21"
  }
 },
 "nbformat": 4,
 "nbformat_minor": 2
}
